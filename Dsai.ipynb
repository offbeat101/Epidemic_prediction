{
  "cells": [
    {
      "cell_type": "code",
      "execution_count": null,
      "metadata": {
        "id": "bFTqsRu9CCmB"
      },
      "outputs": [],
      "source": [
        "import numpy as np\n",
        "import pandas as pd\n",
        "import matplotlib.pyplot as plt\n",
        "import matplotlib.colors as mcolors\n",
        "import random\n",
        "import math\n",
        "import time\n",
        "from sklearn.linear_model import LinearRegression\n",
        "from sklearn.model_selection import train_test_split\n",
        "from sklearn.preprocessing import PolynomialFeatures\n",
        "from sklearn.svm import SVR\n",
        "from sklearn.metrics import mean_squared_error, mean_absolute_error\n",
        "import datetime\n",
        "import operator\n",
        "plt.style.use('fivethirtyeight')\n",
        "%matplotlib inline\n",
        "\n",
        "from scipy import integrate, optimize"
      ]
    },
    {
      "cell_type": "code",
      "execution_count": null,
      "metadata": {
        "id": "yYyrzg3yCbKV"
      },
      "outputs": [],
      "source": [
        "confirmed_cases = pd.read_csv('/content/time_series_covid19_confirmed_global.csv')"
      ]
    },
    {
      "cell_type": "code",
      "execution_count": null,
      "metadata": {
        "id": "ZMz-0zNqDI_8"
      },
      "outputs": [],
      "source": [
        "confirmed_cases = confirmed_cases.iloc[:, :501]"
      ]
    },
    {
      "cell_type": "code",
      "execution_count": null,
      "metadata": {
        "id": "nGnYDtJhDe5D"
      },
      "outputs": [],
      "source": [
        "print(confirmed_cases.head())"
      ]
    },
    {
      "cell_type": "code",
      "execution_count": null,
      "metadata": {
        "id": "IQraYgT3Dow5"
      },
      "outputs": [],
      "source": [
        "confirmed_cases.to_csv(\"modified_dataset_confirmed.csv\", index=False)"
      ]
    },
    {
      "cell_type": "code",
      "execution_count": null,
      "metadata": {
        "id": "FVFZOrflD7d6"
      },
      "outputs": [],
      "source": [
        "deaths_reported = pd.read_csv('/content/time_series_covid19_deaths_global.csv')"
      ]
    },
    {
      "cell_type": "code",
      "execution_count": null,
      "metadata": {
        "id": "PKelsu81EBbL"
      },
      "outputs": [],
      "source": [
        "deaths_reported = deaths_reported.iloc[:, :501]"
      ]
    },
    {
      "cell_type": "code",
      "execution_count": null,
      "metadata": {
        "id": "I1GRnJ-dFKkn"
      },
      "outputs": [],
      "source": [
        "deaths_reported.to_csv(\"modified_dataset_deaths.csv\", index=False)"
      ]
    },
    {
      "cell_type": "code",
      "execution_count": null,
      "metadata": {
        "id": "oAkuqKuWFPWn"
      },
      "outputs": [],
      "source": [
        "recovered_cases=pd.read_csv('/content/time_series_covid19_recovered_global.csv')"
      ]
    },
    {
      "cell_type": "code",
      "execution_count": null,
      "metadata": {
        "id": "1SGnrIIsFezd"
      },
      "outputs": [],
      "source": [
        "recovered_cases=recovered_cases.iloc[:, :501]"
      ]
    },
    {
      "cell_type": "code",
      "execution_count": null,
      "metadata": {
        "id": "mB7KxwSdU66q"
      },
      "outputs": [],
      "source": [
        "recovered_cases.to_csv(\"modified_dataset_recovered.csv\", index=False)"
      ]
    },
    {
      "cell_type": "code",
      "execution_count": null,
      "metadata": {
        "id": "Cl6wWw5RFvs1"
      },
      "outputs": [],
      "source": [
        "# Fetching all the columns from confirmed dataset\n",
        "cols = confirmed_cases.keys()\n",
        "cols"
      ]
    },
    {
      "cell_type": "code",
      "execution_count": null,
      "metadata": {
        "id": "m8XNCnGsFyHZ"
      },
      "outputs": [],
      "source": [
        "# Extracting the date columns\n",
        "confirmed = confirmed_cases.loc[:, cols[4]:cols[-1]]\n",
        "deaths = deaths_reported.loc[:, cols[4]:cols[-1]]\n",
        "recoveries = recovered_cases.loc[:, cols[4]:cols[-1]]"
      ]
    },
    {
      "cell_type": "code",
      "execution_count": null,
      "metadata": {
        "id": "EpPtYzpBF4Lm"
      },
      "outputs": [],
      "source": [
        "dates = confirmed.keys()\n",
        "world_cases = []\n",
        "total_deaths = []\n",
        "mortality_rate = []\n",
        "recovery_rate = []\n",
        "total_recovered = []\n",
        "total_active = []\n",
        "\n",
        "china_cases = []\n",
        "us_cases = []\n",
        "india_cases = []\n",
        "\n",
        "china_deaths = []\n",
        "us_deaths = []\n",
        "india_deaths = []\n",
        "\n",
        "\n",
        "china_recoveries = []\n",
        "us_recoveries = []\n",
        "india_recoveries = []"
      ]
    },
    {
      "cell_type": "code",
      "execution_count": null,
      "metadata": {
        "id": "9Us5n-PBGIKl"
      },
      "outputs": [],
      "source": [
        "for i in dates:\n",
        "    confirmed_sum = confirmed[i].sum()\n",
        "    death_sum = deaths[i].sum()\n",
        "    recovered_sum = recoveries[i].sum()\n",
        "\n",
        "    world_cases.append(confirmed_sum)\n",
        "    total_deaths.append(death_sum)\n",
        "    total_recovered.append(recovered_sum)\n",
        "    total_active.append(confirmed_sum-death_sum-recovered_sum)\n",
        "\n",
        "    mortality_rate.append(death_sum/confirmed_sum)\n",
        "    recovery_rate.append(recovered_sum/confirmed_sum)\n",
        "\n",
        "    china_cases.append(confirmed_cases[confirmed_cases['Country/Region']=='China'][i].sum())\n",
        "    us_cases.append(confirmed_cases[confirmed_cases['Country/Region']=='US'][i].sum())\n",
        "    india_cases.append(confirmed_cases[confirmed_cases['Country/Region']=='India'][i].sum())\n",
        "\n",
        "\n",
        "    china_deaths.append(deaths_reported[deaths_reported['Country/Region']=='China'][i].sum())\n",
        "    us_deaths.append(deaths_reported[deaths_reported['Country/Region']=='US'][i].sum())\n",
        "    india_deaths.append(deaths_reported[deaths_reported['Country/Region']=='India'][i].sum())\n",
        "\n",
        "\n",
        "    china_recoveries.append(recovered_cases[recovered_cases['Country/Region']=='China'][i].sum())\n",
        "    us_recoveries.append(recovered_cases[recovered_cases['Country/Region']=='US'][i].sum())\n",
        "    india_recoveries.append(recovered_cases[recovered_cases['Country/Region']=='India'][i].sum())\n"
      ]
    },
    {
      "cell_type": "code",
      "execution_count": null,
      "metadata": {
        "id": "1hYwIihAGncE"
      },
      "outputs": [],
      "source": [
        "def daily_increase(data):\n",
        "    d = []\n",
        "    for i in range(len(data)):\n",
        "        if i == 0:\n",
        "            d.append(data[0])\n",
        "        else:\n",
        "            d.append(data[i]-data[i-1])\n",
        "    return d"
      ]
    },
    {
      "cell_type": "code",
      "execution_count": null,
      "metadata": {
        "id": "jPEGN3xXGyTn"
      },
      "outputs": [],
      "source": [
        "# confirmed cases\n",
        "world_daily_increase = daily_increase(world_cases)\n",
        "china_daily_increase = daily_increase(china_cases)\n",
        "us_daily_increase = daily_increase(us_cases)\n",
        "india_daily_increase = daily_increase(india_cases)"
      ]
    },
    {
      "cell_type": "code",
      "execution_count": null,
      "metadata": {
        "id": "BHnAIWnjG_K5"
      },
      "outputs": [],
      "source": [
        "# deaths\n",
        "world_daily_death = daily_increase(total_deaths)\n",
        "china_daily_death = daily_increase(china_deaths)\n",
        "us_daily_death = daily_increase(us_deaths)\n",
        "india_daily_death = daily_increase(india_deaths)\n",
        "# recoveries\n",
        "world_daily_recovery= daily_increase(total_recovered)\n",
        "china_daily_recovery = daily_increase(china_recoveries)\n",
        "us_daily_recovery = daily_increase(us_recoveries)\n",
        "india_daily_recovery = daily_increase(india_recoveries)"
      ]
    },
    {
      "cell_type": "code",
      "execution_count": null,
      "metadata": {
        "id": "7xjGpeFyIDZr"
      },
      "outputs": [],
      "source": [
        "latest_data = pd.read_csv('https://raw.githubusercontent.com/CSSEGISandData/COVID-19/master/csse_covid_19_data/csse_covid_19_daily_reports/06-01-2021.csv')"
      ]
    },
    {
      "cell_type": "code",
      "execution_count": null,
      "metadata": {
        "id": "-5QBU24LI7bR"
      },
      "outputs": [],
      "source": [
        "unique_countries =  list(latest_data['Country_Region'].unique())\n",
        "unique_countries"
      ]
    },
    {
      "cell_type": "code",
      "execution_count": null,
      "metadata": {
        "id": "3nSYhRbwJYGE"
      },
      "outputs": [],
      "source": [
        "country_confirmed_cases = []\n",
        "country_death_cases = []\n",
        "country_active_cases = []\n",
        "country_recovery_cases = []\n",
        "country_mortality_rate = []\n",
        "\n",
        "no_cases = []\n",
        "for i in unique_countries:\n",
        "    cases = latest_data[latest_data['Country_Region']==i]['Confirmed'].sum()\n",
        "    if cases > 0:\n",
        "        country_confirmed_cases.append(cases)\n",
        "    else:\n",
        "        no_cases.append(i)\n",
        "\n",
        "for i in no_cases:\n",
        "    unique_countries.remove(i)\n",
        "\n",
        "# sort countries by the number of confirmed cases\n",
        "unique_countries = [k for k, v in sorted(zip(unique_countries, country_confirmed_cases), key=operator.itemgetter(1), reverse=True)]\n",
        "for i in range(len(unique_countries)):\n",
        "    country_confirmed_cases[i] = latest_data[latest_data['Country_Region']==unique_countries[i]]['Confirmed'].sum()\n",
        "    country_death_cases.append(latest_data[latest_data['Country_Region']==unique_countries[i]]['Deaths'].sum())\n",
        "    country_recovery_cases.append(latest_data[latest_data['Country_Region']==unique_countries[i]]['Recovered'].sum())\n",
        "    country_active_cases.append(country_confirmed_cases[i] - country_death_cases[i] - country_recovery_cases[i])\n",
        "    country_mortality_rate.append(country_death_cases[i]/country_confirmed_cases[i])"
      ]
    },
    {
      "cell_type": "code",
      "source": [
        "# prompt: create 3 graphs showing us, india and china, their recovery rates, deaths and confirmed cases from above data line graph\n",
        "\n",
        "# Confirmed cases\n",
        "plt.figure(figsize=(20, 10))\n",
        "plt.plot(dates, world_cases, color='blue', label='World')\n",
        "plt.plot(dates, us_cases, color='green', label='USA')\n",
        "plt.plot(dates, india_cases, color='red', label='India')\n",
        "plt.plot(dates, china_cases, color='yellow', label='China')\n",
        "plt.xlabel('Date')\n",
        "plt.ylabel('Number of confirmed cases')\n",
        "plt.title('Confirmed Cases Over Time')\n",
        "plt.legend()\n",
        "plt.show()\n",
        "\n",
        "# Deaths\n",
        "plt.figure(figsize=(20, 10))\n",
        "plt.plot(dates, total_deaths, color='blue', label='World')\n",
        "plt.plot(dates, us_deaths, color='green', label='USA')\n",
        "plt.plot(dates, india_deaths, color='red', label='India')\n",
        "plt.plot(dates, china_deaths, color='yellow', label='China')\n",
        "plt.xlabel('Date')\n",
        "plt.ylabel('Number of deaths')\n",
        "plt.title('Deaths Over Time')\n",
        "plt.legend()\n",
        "plt.show()\n",
        "\n",
        "# Recoveries\n",
        "plt.figure(figsize=(20, 10))\n",
        "plt.plot(dates, total_recovered, color='blue', label='World')\n",
        "plt.plot(dates, us_recoveries, color='green', label='USA')\n",
        "plt.plot(dates, india_recoveries, color='red', label='India')\n",
        "plt.plot(dates, china_recoveries, color='yellow', label='China')\n",
        "plt.xlabel('Date')\n",
        "plt.ylabel('Number of recoveries')\n",
        "plt.title('Recoveries Over Time')\n",
        "plt.legend()\n",
        "plt.show()\n"
      ],
      "metadata": {
        "id": "20IQZzIAbEso"
      },
      "execution_count": null,
      "outputs": []
    },
    {
      "cell_type": "code",
      "execution_count": null,
      "metadata": {
        "id": "AjRG4MJRJm0W"
      },
      "outputs": [],
      "source": [
        "country_df = pd.DataFrame({'Country Name': unique_countries, 'Number of Confirmed Cases': country_confirmed_cases,\n",
        "                          'Number of Deaths': country_death_cases, 'Number of Recoveries' : country_recovery_cases,\n",
        "                          'Number of Active Cases' : country_active_cases,\n",
        "                          'Mortality Rate': country_mortality_rate})\n",
        "# number of cases per country/region\n",
        "\n",
        "country_df.style.background_gradient(cmap='Reds')"
      ]
    },
    {
      "cell_type": "code",
      "execution_count": null,
      "metadata": {
        "id": "RD53OTe2KJ5W"
      },
      "outputs": [],
      "source": [
        "unique_provinces =  list(latest_data['Province_State'].unique())"
      ]
    },
    {
      "cell_type": "code",
      "execution_count": null,
      "metadata": {
        "id": "fPyEomGbKRAL"
      },
      "outputs": [],
      "source": [
        "province_confirmed_cases = []\n",
        "province_country = []\n",
        "province_death_cases = []\n",
        "province_recovery_cases = []\n",
        "province_mortality_rate = []\n",
        "\n",
        "no_cases = []\n",
        "for i in unique_provinces:\n",
        "    cases = latest_data[latest_data['Province_State']==i]['Confirmed'].sum()\n",
        "    if cases > 0:\n",
        "        province_confirmed_cases.append(cases)\n",
        "    else:\n",
        "        no_cases.append(i)\n",
        "\n",
        "# remove areas with no confirmed cases\n",
        "for i in no_cases:\n",
        "    unique_provinces.remove(i)\n",
        "\n",
        "unique_provinces = [k for k, v in sorted(zip(unique_provinces, province_confirmed_cases), key=operator.itemgetter(1), reverse=True)]\n",
        "for i in range(len(unique_provinces)):\n",
        "    province_confirmed_cases[i] = latest_data[latest_data['Province_State']==unique_provinces[i]]['Confirmed'].sum()\n",
        "    province_country.append(latest_data[latest_data['Province_State']==unique_provinces[i]]['Country_Region'].unique()[0])\n",
        "    province_death_cases.append(latest_data[latest_data['Province_State']==unique_provinces[i]]['Deaths'].sum())\n",
        "    province_recovery_cases.append(latest_data[latest_data['Province_State']==unique_provinces[i]]['Recovered'].sum())\n",
        "    province_mortality_rate.append(province_death_cases[i]/province_confirmed_cases[i])"
      ]
    },
    {
      "cell_type": "code",
      "execution_count": null,
      "metadata": {
        "id": "5wqPB0ixKWUj"
      },
      "outputs": [],
      "source": [
        "# number of cases per province/state/city\n",
        "province_df = pd.DataFrame({'Province/State Name': unique_provinces, 'Country': province_country, 'Number of Confirmed Cases': province_confirmed_cases,\n",
        "                          'Number of Deaths': province_death_cases, 'Number of Recoveries' : province_recovery_cases,\n",
        "                          'Mortality Rate': province_mortality_rate})\n",
        "# number of cases per country/region\n",
        "\n",
        "province_df.style.background_gradient(cmap='Reds')"
      ]
    },
    {
      "cell_type": "code",
      "execution_count": null,
      "metadata": {
        "id": "rvX8pw5TKdvO"
      },
      "outputs": [],
      "source": [
        "# Dealing with missing values\n",
        "nan_indices = []\n",
        "\n",
        "# handle nan if there is any, it is usually a float: float('nan')\n",
        "\n",
        "for i in range(len(unique_provinces)):\n",
        "    if type(unique_provinces[i]) == float:\n",
        "        nan_indices.append(i)\n",
        "\n",
        "unique_provinces = list(unique_provinces)\n",
        "province_confirmed_cases = list(province_confirmed_cases)\n",
        "\n",
        "for i in nan_indices:\n",
        "    unique_provinces.pop(i)\n",
        "    province_confirmed_cases.pop(i)"
      ]
    },
    {
      "cell_type": "code",
      "execution_count": null,
      "metadata": {
        "id": "NqPrVmptKp4O"
      },
      "outputs": [],
      "source": [
        "# Only show 10 countries with the most confirmed cases, the rest are grouped into the other category\n",
        "visual_unique_countries = []\n",
        "visual_confirmed_cases = []\n",
        "others = np.sum(country_confirmed_cases[10:])\n",
        "\n",
        "for i in range(len(country_confirmed_cases[:10])):\n",
        "    visual_unique_countries.append(unique_countries[i])\n",
        "    visual_confirmed_cases.append(country_confirmed_cases[i])\n",
        "\n",
        "visual_unique_countries.append('Others')\n",
        "visual_confirmed_cases.append(others)"
      ]
    },
    {
      "cell_type": "code",
      "execution_count": null,
      "metadata": {
        "id": "zL08niL2KwXn"
      },
      "outputs": [],
      "source": [
        "def plot_bar_graphs(x, y, title):\n",
        "    plt.figure(figsize=(16, 9))\n",
        "    plt.barh(x, y)\n",
        "    plt.title(title, size=20)\n",
        "    plt.xticks(size=20)\n",
        "    plt.yticks(size=20)\n",
        "    plt.show()"
      ]
    },
    {
      "cell_type": "code",
      "execution_count": null,
      "metadata": {
        "id": "WmXhJ2sdK0Fz"
      },
      "outputs": [],
      "source": [
        "plot_bar_graphs(visual_unique_countries, visual_confirmed_cases, 'Number of Covid-19 Confirmed Cases in Countries/Regions')"
      ]
    },
    {
      "cell_type": "code",
      "execution_count": null,
      "metadata": {
        "id": "hpq-g-YrK6Fc"
      },
      "outputs": [],
      "source": [
        "def plot_pie_charts(x, y, title):\n",
        "    c = random.choices(list(mcolors.CSS4_COLORS.values()),k = len(unique_countries))\n",
        "    plt.figure(figsize=(20,15))\n",
        "    plt.title(title, size=20)\n",
        "    plt.pie(y, colors=c)\n",
        "    plt.legend(x, loc='best', fontsize=15)\n",
        "    plt.show()"
      ]
    },
    {
      "cell_type": "code",
      "execution_count": null,
      "metadata": {
        "id": "2tI9UdeAK9O2"
      },
      "outputs": [],
      "source": [
        "plot_pie_charts(visual_unique_countries, visual_confirmed_cases, 'Covid-19 Confirmed Cases per Country')"
      ]
    },
    {
      "cell_type": "code",
      "execution_count": null,
      "metadata": {
        "id": "wqq2Rx9sLJ_4"
      },
      "outputs": [],
      "source": [
        "def plot_pie_country_with_regions(country_name, title):\n",
        "    regions = list(latest_data[latest_data['Country_Region']==country_name]['Province_State'].unique())\n",
        "    confirmed_cases = []\n",
        "    no_cases = []\n",
        "    for i in regions:\n",
        "        cases = latest_data[latest_data['Province_State']==i]['Confirmed'].sum()\n",
        "        if cases > 0:\n",
        "            confirmed_cases.append(cases)\n",
        "        else:\n",
        "            no_cases.append(i)\n",
        "\n",
        "    # remove areas with no confirmed cases\n",
        "    for i in no_cases:\n",
        "        regions.remove(i)\n",
        "\n",
        "    # only show the top 10 states\n",
        "    regions = [k for k, v in sorted(zip(regions, confirmed_cases), key=operator.itemgetter(1), reverse=True)]\n",
        "\n",
        "    for i in range(len(regions)):\n",
        "        confirmed_cases[i] = latest_data[latest_data['Province_State']==regions[i]]['Confirmed'].sum()\n",
        "\n",
        "    # additional province/state will be considered \"others\"\n",
        "\n",
        "    if(len(regions)>10):\n",
        "        regions_10 = regions[:10]\n",
        "        regions_10.append('Others')\n",
        "        confirmed_cases_10 = confirmed_cases[:10]\n",
        "        confirmed_cases_10.append(np.sum(confirmed_cases[10:]))\n",
        "        plot_pie_charts(regions_10,confirmed_cases_10, title)\n",
        "    else:\n",
        "        plot_pie_charts(regions,confirmed_cases, title)"
      ]
    },
    {
      "cell_type": "code",
      "execution_count": null,
      "metadata": {
        "id": "f0Uc0gEeLNOA"
      },
      "outputs": [],
      "source": [
        "plot_pie_country_with_regions('India', 'COVID-19 Confirmed Cases in India')"
      ]
    },
    {
      "cell_type": "code",
      "execution_count": null,
      "metadata": {
        "id": "JbYCVjerLTzq"
      },
      "outputs": [],
      "source": [
        "days_since_1_22 = np.array([i for i in range(len(dates))]).reshape(-1, 1)\n",
        "world_cases = np.array(world_cases).reshape(-1, 1)\n",
        "total_deaths = np.array(total_deaths).reshape(-1, 1)\n",
        "total_recovered = np.array(total_recovered).reshape(-1, 1)"
      ]
    },
    {
      "cell_type": "code",
      "execution_count": null,
      "metadata": {
        "id": "4XRe0Z6uLV01"
      },
      "outputs": [],
      "source": [
        "days_in_future = 20\n",
        "future_forecast = np.array([i for i in range(len(dates)+days_in_future)]).reshape(-1, 1)\n",
        "adjusted_dates = future_forecast[:-20]"
      ]
    },
    {
      "cell_type": "code",
      "execution_count": null,
      "metadata": {
        "id": "xychG29hLfjS"
      },
      "outputs": [],
      "source": [
        "start = '1/22/2020'\n",
        "start_date = datetime.datetime.strptime(start, '%m/%d/%Y')\n",
        "future_forecast_dates = []\n",
        "for i in range(len(future_forecast)):\n",
        "    future_forecast_dates.append((start_date + datetime.timedelta(days=i)).strftime('%m/%d/%Y'))"
      ]
    },
    {
      "cell_type": "code",
      "execution_count": null,
      "metadata": {
        "id": "8w76VMk5LjaJ"
      },
      "outputs": [],
      "source": [
        "X_train_confirmed, X_test_confirmed, y_train_confirmed, y_test_confirmed = train_test_split(days_since_1_22, world_cases, test_size=0.25, shuffle=False)"
      ]
    },
    {
      "cell_type": "code",
      "execution_count": null,
      "metadata": {
        "id": "MqIrGdjkLm2v"
      },
      "outputs": [],
      "source": [
        "# transform our data for polynomial regression\n",
        "poly = PolynomialFeatures(degree=3)\n",
        "poly_X_train_confirmed = poly.fit_transform(X_train_confirmed)\n",
        "poly_X_test_confirmed = poly.fit_transform(X_test_confirmed)\n",
        "poly_future_forecast = poly.fit_transform(future_forecast)"
      ]
    },
    {
      "cell_type": "code",
      "execution_count": null,
      "metadata": {
        "colab": {
          "base_uri": "https://localhost:8080/"
        },
        "id": "5KHrHmzjLrzz",
        "outputId": "c5343b5c-cd60-420b-b56a-064933dcabe5"
      },
      "outputs": [
        {
          "output_type": "stream",
          "name": "stdout",
          "text": [
            "MAE: 31991184.43847966\n",
            "MSE: 1354760571521688.5\n"
          ]
        }
      ],
      "source": [
        "# polynomial regression\n",
        "linear_model = LinearRegression( fit_intercept=False)\n",
        "linear_model.fit(poly_X_train_confirmed, y_train_confirmed)\n",
        "test_linear_pred = linear_model.predict(poly_X_test_confirmed)\n",
        "linear_pred = linear_model.predict(poly_future_forecast)\n",
        "print('MAE:', mean_absolute_error(test_linear_pred, y_test_confirmed))\n",
        "print('MSE:',mean_squared_error(test_linear_pred, y_test_confirmed))"
      ]
    },
    {
      "cell_type": "code",
      "execution_count": null,
      "metadata": {
        "id": "B3Z-7fkjLwFm"
      },
      "outputs": [],
      "source": [
        "plt.plot(y_test_confirmed)\n",
        "plt.plot(test_linear_pred)\n",
        "plt.legend(['Test Data', 'Polynomial Regression Predictions'])"
      ]
    },
    {
      "cell_type": "code",
      "execution_count": null,
      "metadata": {
        "id": "-x2ut5dEgSDE"
      },
      "outputs": [],
      "source": [
        "# Susceptible equation\n",
        "def fa(N, a, b, beta):\n",
        "    fa = -beta*a*b\n",
        "    return fa\n",
        "# Infected equation\n",
        "def fb(N, a, b, beta, gamma):\n",
        "    fb = beta*a*b - gamma*b\n",
        "    return fb\n",
        "# Recovered/deceased equation\n",
        "def fc(N, b, gamma):\n",
        "    fc = gamma*b\n",
        "    return fc"
      ]
    },
    {
      "cell_type": "code",
      "execution_count": null,
      "metadata": {
        "id": "eqJc6MldmPgv"
      },
      "outputs": [],
      "source": [
        "# Runge-Kutta method of 4rth order for 3 dimensions (susceptible a, infected b and recovered r)\n",
        "def rK4(N, a, b, c, fa, fb, fc, beta, gamma, hs):\n",
        "    a1 = fa(N, a, b, beta)*hs\n",
        "    b1 = fb(N, a, b, beta, gamma)*hs\n",
        "    c1 = fc(N, b, gamma)*hs\n",
        "    ak = a + a1*0.5\n",
        "    bk = b + b1*0.5\n",
        "    ck = c + c1*0.5\n",
        "    a2 = fa(N, ak, bk, beta)*hs\n",
        "    b2 = fb(N, ak, bk, beta, gamma)*hs\n",
        "    c2 = fc(N, bk, gamma)*hs\n",
        "    ak = a + a2*0.5\n",
        "    bk = b + b2*0.5\n",
        "    ck = c + c2*0.5\n",
        "    a3 = fa(N, ak, bk, beta)*hs\n",
        "    b3 = fb(N, ak, bk, beta, gamma)*hs\n",
        "    c3 = fc(N, bk, gamma)*hs\n",
        "    ak = a + a3\n",
        "    bk = b + b3\n",
        "    ck = c + c3\n",
        "    a4 = fa(N, ak, bk, beta)*hs\n",
        "    b4 = fb(N, ak, bk, beta, gamma)*hs\n",
        "    c4 = fc(N, bk, gamma)*hs\n",
        "    a = a + (a1 + 2*(a2 + a3) + a4)/6\n",
        "    b = b + (b1 + 2*(b2 + b3) + b4)/6\n",
        "    c = c + (c1 + 2*(c2 + c3) + c4)/6\n",
        "    return a, b, c"
      ]
    },
    {
      "cell_type": "code",
      "execution_count": null,
      "metadata": {
        "id": "pUgn4NVJj8z7"
      },
      "outputs": [],
      "source": [
        "def SIR(N, b0, beta, gamma, hs):\n",
        "    \"\"\"\n",
        "    N = total number of population\n",
        "    beta = transition rate S->I\n",
        "    gamma = transition rate I->R\n",
        "    k =  denotes the constant degree distribution of the network (average value for networks in which\n",
        "    the probability of finding a node with a different connectivity decays exponentially fast\n",
        "    hs = jump step of the numerical integration\n",
        "    \"\"\"\n",
        "    # Initial condition\n",
        "    a = float(N-1)/N -b0\n",
        "    b = float(1)/N +b0\n",
        "    c = 0.\n",
        "    sus, inf, rec= [],[],[]\n",
        "    for i in range(10000): # Run for a certain number of time-steps\n",
        "        sus.append(a)\n",
        "        inf.append(b)\n",
        "        rec.append(c)\n",
        "        a,b,c = rK4(N, a, b, c, fa, fb, fc, beta, gamma, hs)\n",
        "\n",
        "    return sus, inf, rec"
      ]
    },
    {
      "cell_type": "code",
      "execution_count": null,
      "metadata": {
        "id": "TOi-NEfkkAui"
      },
      "outputs": [],
      "source": [
        "# Parameters of the model\n",
        "N = 7800*(10**6)\n",
        "b0 = 0\n",
        "beta = 0.7\n",
        "gamma = 0.2\n",
        "hs = 0.1\n",
        "sus, inf, rec = SIR(N, b0, beta, gamma, hs)\n",
        "f = plt.figure(figsize=(8,5))\n",
        "plt.plot(sus, 'b.', label='susceptible');\n",
        "plt.plot(inf, 'r.', label='infected');\n",
        "plt.plot(rec, 'c.', label='recovered/deceased');\n",
        "plt.title(\"SIR model\")\n",
        "plt.xlabel(\"time\", fontsize=10);\n",
        "plt.ylabel(\"Fraction of population\", fontsize=10);\n",
        "plt.legend(loc='best')\n",
        "plt.xlim(0,1000)\n",
        "plt.show()"
      ]
    },
    {
      "cell_type": "code",
      "execution_count": null,
      "metadata": {
        "id": "FSryA9BVkGPS"
      },
      "outputs": [],
      "source": [
        "population = float(1326093247)\n",
        "country_df = pd.DataFrame()\n",
        "# Filter rows for the country 'India'\n",
        "india_cases = confirmed_cases[confirmed_cases['Country/Region'] == 'India']\n",
        "\n",
        "# Extract the confirmed cases data for India\n",
        "india_confirmed_cases = india_cases.iloc[:, 4:].sum(axis=0)\n",
        "\n",
        "country_df['ConfirmedCases'] = india_confirmed_cases\n",
        "country_df = country_df[10:]\n",
        "country_df['day_count'] = list(range(1,len(country_df)+1))\n",
        "\n",
        "ydata = [i for i in country_df.ConfirmedCases]\n",
        "xdata = country_df.day_count\n",
        "ydata = np.array(ydata, dtype=float)\n",
        "xdata = np.array(xdata, dtype=float)\n",
        "\n",
        "N = population\n",
        "inf0 = ydata[0]\n",
        "sus0 = N - inf0\n",
        "rec0 = 0.0\n",
        "\n",
        "def sir_model(y, x, beta, gamma):\n",
        "    sus = -beta * y[0] * y[1] / N\n",
        "    rec = gamma * y[1]\n",
        "    inf = -(sus + rec)\n",
        "    return sus, inf, rec\n",
        "\n",
        "def fit_odeint(x, beta, gamma):\n",
        "    return integrate.odeint(sir_model, (sus0, inf0, rec0), x, args=(beta, gamma))[:,1]\n",
        "\n",
        "popt, pcov = optimize.curve_fit(fit_odeint, xdata, ydata)\n",
        "fitted = fit_odeint(xdata, *popt)\n",
        "\n",
        "plt.plot(xdata, ydata, 'o')\n",
        "plt.plot(xdata, fitted)\n",
        "plt.title(\"Fit of SIR model for India infected cases\")\n",
        "plt.ylabel(\"Population infected\")\n",
        "plt.xlabel(\"Days\")\n",
        "plt.show()\n",
        "print(\"Optimal parameters: beta =\", popt[0], \" and gamma = \", popt[1])"
      ]
    },
    {
      "cell_type": "code",
      "execution_count": null,
      "metadata": {
        "colab": {
          "background_save": true
        },
        "id": "NCR5tvoB4WcZ"
      },
      "outputs": [],
      "source": [
        "# svm_confirmed = svm_search.best_estimator_\n",
        "svm_confirmed = SVR(shrinking=True, kernel='poly',gamma=0.01, epsilon=1,degree=5, C=0.1)\n",
        "svm_confirmed.fit(X_train_confirmed, y_train_confirmed)\n",
        "svm_pred = svm_confirmed.predict(future_forecast)"
      ]
    },
    {
      "cell_type": "code",
      "execution_count": null,
      "metadata": {
        "id": "PoLBTiWb4aO0"
      },
      "outputs": [],
      "source": [
        "svm_test_pred = svm_confirmed.predict(X_test_confirmed)\n",
        "plt.plot(y_test_confirmed)\n",
        "plt.plot(svm_test_pred)\n",
        "plt.legend(['Test Data', 'SVM Predictions'])\n",
        "print('MAE:', mean_absolute_error(svm_test_pred, y_test_confirmed))\n",
        "print('MSE:',mean_squared_error(svm_test_pred, y_test_confirmed))"
      ]
    },
    {
      "cell_type": "code",
      "execution_count": null,
      "metadata": {
        "id": "Mm-zXRN5NelB"
      },
      "outputs": [],
      "source": [
        "plt.figure(figsize=(16, 9))\n",
        "flattened_dates = [item for sublist in adjusted_dates for item in sublist]\n",
        "plt.bar(flattened_dates, world_daily_increase)\n",
        "plt.title('World Daily Increases in Confirmed Cases', size=30)\n",
        "plt.xlabel('Days Since 1/22/2020', size=30)\n",
        "plt.ylabel('Number of Cases', size=30)\n",
        "plt.xticks(size=20)\n",
        "plt.yticks(size=20)\n",
        "plt.show()"
      ]
    },
    {
      "cell_type": "code",
      "execution_count": null,
      "metadata": {
        "id": "jkHnOiEfNngA"
      },
      "outputs": [],
      "source": [
        "plt.figure(figsize=(16, 9))\n",
        "flattened_dates = [item for sublist in adjusted_dates for item in sublist]\n",
        "plt.bar(flattened_dates, world_daily_death)\n",
        "plt.title('World Daily Increases in Confirmed Recoveries', size=30)\n",
        "plt.xlabel('Days Since 1/22/2020', size=30)\n",
        "plt.ylabel('Number of Cases', size=30)\n",
        "plt.xticks(size=20)\n",
        "plt.yticks(size=20)\n",
        "plt.show()"
      ]
    },
    {
      "cell_type": "code",
      "execution_count": null,
      "metadata": {
        "id": "DuFCehmFOPOD"
      },
      "outputs": [],
      "source": [
        "# Future predictions using polynomial regression\n",
        "linear_pred = linear_pred.reshape(1,-1)[0]\n",
        "poly_df = pd.DataFrame({'Date': future_forecast_dates[-20:], 'Predicted number of Confirmed Cases Worldwide': np.round(linear_pred[-20:])})\n",
        "poly_df"
      ]
    },
    {
      "cell_type": "code",
      "execution_count": null,
      "metadata": {
        "id": "I2Lk6xZjOSMF"
      },
      "outputs": [],
      "source": [
        "# Future predictions using SVM\n",
        "svm_df = pd.DataFrame({'Date': future_forecast_dates[-20:], 'SVM Predicted # of Confirmed Cases Worldwide': np.round(svm_pred[-20:])})\n",
        "svm_df"
      ]
    },
    {
      "cell_type": "code",
      "execution_count": null,
      "metadata": {
        "id": "xPYKjOmgOXg_"
      },
      "outputs": [],
      "source": [
        "plt.figure(figsize=(16, 9))\n",
        "plt.plot(adjusted_dates, total_deaths, color='r')\n",
        "plt.plot(adjusted_dates, total_recovered, color='green')\n",
        "plt.legend(['death', 'recoveries'], loc='best', fontsize=20)\n",
        "plt.title('Number of Coronavirus Cases', size=30)\n",
        "plt.xlabel('Days Since 1/22/2020', size=30)\n",
        "plt.ylabel('Number of Cases', size=30)\n",
        "plt.xticks(size=20)\n",
        "plt.yticks(size=20)\n",
        "plt.show()"
      ]
    },
    {
      "cell_type": "code",
      "execution_count": null,
      "metadata": {
        "id": "bycwIz-_O2Up"
      },
      "outputs": [],
      "source": [
        "plt.figure(figsize=(16, 9))\n",
        "plt.plot(total_recovered, total_deaths)\n",
        "plt.title('Number of Coronavirus Deaths vs. Number of Coronavirus Recoveries', size=30)\n",
        "plt.xlabel('Number of Coronavirus Recoveries', size=30)\n",
        "plt.ylabel('Number of Coronavirus Deaths', size=30)\n",
        "plt.xticks(size=20)\n",
        "plt.yticks(size=20)\n",
        "plt.show()"
      ]
    },
    {
      "cell_type": "code",
      "execution_count": null,
      "metadata": {
        "id": "LYOI9Z1yO-PF"
      },
      "outputs": [],
      "source": [
        "plt.figure(figsize=(16, 9))\n",
        "plt.plot(adjusted_dates, china_cases)\n",
        "plt.plot(adjusted_dates, us_cases)\n",
        "plt.plot(adjusted_dates, india_cases)\n",
        "plt.title('Number of Coronavirus Cases', size=30)\n",
        "plt.xlabel('Days Since 1/22/2020', size=30)\n",
        "plt.ylabel('Number of Cases', size=30)\n",
        "plt.legend(['China', 'US', 'India'], prop={'size': 20})\n",
        "plt.xticks(size=20)\n",
        "plt.yticks(size=20)\n",
        "plt.show()"
      ]
    },
    {
      "cell_type": "code",
      "execution_count": null,
      "metadata": {
        "id": "Z-aZV6C5PA6G"
      },
      "outputs": [],
      "source": [
        "plt.figure(figsize=(16, 9))\n",
        "plt.plot(adjusted_dates, china_deaths)\n",
        "plt.plot(adjusted_dates, us_deaths)\n",
        "plt.plot(adjusted_dates, india_deaths)\n",
        "plt.title('Number of Coronavirus Deaths', size=30)\n",
        "plt.xlabel('Days Since 1/22/2020', size=30)\n",
        "plt.ylabel('Number of Cases', size=30)\n",
        "plt.legend(['China', 'US', 'India'], prop={'size': 20})\n",
        "plt.xticks(size=20)\n",
        "plt.yticks(size=20)\n",
        "plt.show()"
      ]
    },
    {
      "cell_type": "code",
      "execution_count": null,
      "metadata": {
        "id": "oA4uC6FCPGqK"
      },
      "outputs": [],
      "source": [
        "plt.figure(figsize=(16, 9))\n",
        "plt.plot(adjusted_dates, china_recoveries)\n",
        "plt.plot(adjusted_dates, us_recoveries)\n",
        "plt.plot(adjusted_dates, india_recoveries)\n",
        "plt.title('Number of Coronavirus Recoveries', size=30)\n",
        "plt.xlabel('Days Since 1/22/2020', size=30)\n",
        "plt.ylabel('Number of Cases', size=30)\n",
        "plt.legend(['China', 'US', 'India'], prop={'size': 20})\n",
        "plt.xticks(size=20)\n",
        "plt.yticks(size=20)\n",
        "plt.show()"
      ]
    }
  ],
  "metadata": {
    "accelerator": "TPU",
    "colab": {
      "provenance": [],
      "gpuType": "V28"
    },
    "kernelspec": {
      "display_name": "Python 3",
      "name": "python3"
    },
    "language_info": {
      "name": "python"
    }
  },
  "nbformat": 4,
  "nbformat_minor": 0
}